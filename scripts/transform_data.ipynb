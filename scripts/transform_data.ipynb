{
 "cells": [
  {
   "cell_type": "code",
   "execution_count": 16,
   "metadata": {},
   "outputs": [],
   "source": [
    "import pandas as pd\n",
    "import numpy as np\n",
    "from collections import Counter\n"
   ]
  },
  {
   "cell_type": "markdown",
   "metadata": {},
   "source": [
    "# Transform financial data"
   ]
  },
  {
   "cell_type": "code",
   "execution_count": null,
   "metadata": {},
   "outputs": [],
   "source": [
    "df = pd.read_excel('../data/raw/Online Retail.xlsx')\n",
    "\n",
    "df['tax'] = df['UnitPrice'] * 0.19\n",
    "df['producing_cost'] = df['UnitPrice'] * np.random.uniform(0.05, 0.15, size=len(df))"
   ]
  },
  {
   "cell_type": "code",
   "execution_count": 16,
   "metadata": {},
   "outputs": [],
   "source": [
    "all_words = []\n",
    "for line in df.Description:\n",
    "    for word in str(line).split():\n",
    "        all_words.append(word)\n",
    "\n",
    "# Use a Counter to count occurrences of each word\n",
    "word_counts = Counter(all_words)\n",
    "\n",
    "# Convert to a list of (word, count) pairs, if desired\n",
    "counts_list = list(word_counts.items())\n",
    "\n",
    "categories = []\n",
    "for word, count in counts_list:\n",
    "    if len(word) > 2 and count > 2000:\n",
    "        categories.append(word)"
   ]
  },
  {
   "cell_type": "code",
   "execution_count": 18,
   "metadata": {},
   "outputs": [],
   "source": [
    "df['category'] = None\n",
    "\n",
    "for index, row in df.iterrows():\n",
    "    for category in categories:\n",
    "        if category in str(row['Description']):\n",
    "            df.at[index, 'category'] = category\n",
    "            break\n",
    "        else:\n",
    "            df.at[index, 'category'] = 'other'"
   ]
  },
  {
   "cell_type": "code",
   "execution_count": 19,
   "metadata": {},
   "outputs": [],
   "source": [
    "df.to_csv('../data/processed/sales_data.csv', index=False, decimal=',', sep=';')"
   ]
  },
  {
   "cell_type": "markdown",
   "metadata": {},
   "source": [
    "# Energy Data"
   ]
  },
  {
   "cell_type": "code",
   "execution_count": 25,
   "metadata": {},
   "outputs": [],
   "source": [
    "failure_reasons = [\"machine failure\", \"human error\", \"incorrect data\", \"network failure\",\n",
    "                   \"incorrect configuration\", \"insufficient resources\", \"insufficient capacity\"]"
   ]
  },
  {
   "cell_type": "code",
   "execution_count": 26,
   "metadata": {},
   "outputs": [],
   "source": [
    "energy_data = pd.read_csv('../data/raw/energydata_complete.csv')"
   ]
  },
  {
   "cell_type": "code",
   "execution_count": null,
   "metadata": {},
   "outputs": [],
   "source": [
    "energy_data['country'] = np.random.choice(['United Kingdom', 'France'], len(energy_data))\n",
    "energy_data['machine_no'] = np.random.choice([1,2,3], len(energy_data))\n",
    "energy_data['product_category'] = np.random.choice(categories, len(energy_data))"
   ]
  },
  {
   "cell_type": "code",
   "execution_count": 28,
   "metadata": {},
   "outputs": [],
   "source": [
    "energy_data['failure_reason'] = None\n",
    "probabilities = [0.1, 0.2, 0.3, 0.2, 0.1, 0.05, 0.05]\n",
    "\n",
    "for index, row in energy_data.iterrows():\n",
    "    if row['Usage_kWh'] < 3:\n",
    "        energy_data.at[index, 'failure_reason'] = np.random.choice(failure_reasons, p=probabilities)\n"
   ]
  },
  {
   "cell_type": "code",
   "execution_count": 29,
   "metadata": {},
   "outputs": [],
   "source": [
    "energy_data.to_csv('../data/processed/energy_data.csv', index=False, decimal=',', sep=';')"
   ]
  }
 ],
 "metadata": {
  "kernelspec": {
   "display_name": "Python 3",
   "language": "python",
   "name": "python3"
  },
  "language_info": {
   "codemirror_mode": {
    "name": "ipython",
    "version": 3
   },
   "file_extension": ".py",
   "mimetype": "text/x-python",
   "name": "python",
   "nbconvert_exporter": "python",
   "pygments_lexer": "ipython3",
   "version": "3.12.3"
  }
 },
 "nbformat": 4,
 "nbformat_minor": 2
}
